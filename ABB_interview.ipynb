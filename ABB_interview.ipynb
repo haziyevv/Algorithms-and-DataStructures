{
  "nbformat": 4,
  "nbformat_minor": 0,
  "metadata": {
    "colab": {
      "name": "ABB_interview.ipynb",
      "provenance": [],
      "collapsed_sections": [],
      "authorship_tag": "ABX9TyO7sEIJHATT+Fx2D4jwLiOR",
      "include_colab_link": true
    },
    "kernelspec": {
      "name": "python3",
      "display_name": "Python 3"
    },
    "language_info": {
      "name": "python"
    }
  },
  "cells": [
    {
      "cell_type": "markdown",
      "metadata": {
        "id": "view-in-github",
        "colab_type": "text"
      },
      "source": [
        "<a href=\"https://colab.research.google.com/github/haziyevv/Algorithms-and-DataStructures/blob/master/ABB_interview.ipynb\" target=\"_parent\"><img src=\"https://colab.research.google.com/assets/colab-badge.svg\" alt=\"Open In Colab\"/></a>"
      ]
    },
    {
      "cell_type": "markdown",
      "metadata": {
        "id": "CLyiIGm7SjB9"
      },
      "source": [
        "\n",
        "**Part 1: General Questions**\n"
      ]
    },
    {
      "cell_type": "markdown",
      "metadata": {
        "id": "h_z_rU9TIg7r"
      },
      "source": [
        "1.1) There is a high class imbalance in this dataset. Dominant class is predicted most of the time, which caused high accuracy and low f1. For example: Project is cancer detection and we have 1000 data and 910 of them are not cancer and the rest are. If we create a naive model and say all the patients are free of cancer, then we will have 91% accuracy but 0% precison in detecting cancer patients."
      ]
    },
    {
      "cell_type": "markdown",
      "metadata": {
        "id": "I-DqWQZYJgiX"
      },
      "source": [
        "1.2) It is 98 %"
      ]
    },
    {
      "cell_type": "markdown",
      "metadata": {
        "id": "F-1OuKnUKE_H"
      },
      "source": [
        "**1.3**"
      ]
    },
    {
      "cell_type": "code",
      "metadata": {
        "colab": {
          "base_uri": "https://localhost:8080/"
        },
        "id": "67XveV0BIPvJ",
        "outputId": "50ab0b37-ff3c-4958-8729-08d157a71cdc"
      },
      "source": [
        "# a)\n",
        "mean = 0.91\n",
        "var = 0.0004\n",
        "\n",
        "alpha = ((1-mean)/var - 1/mean)*mean**2\n",
        "beta = alpha*(1/mean - 1)\n",
        "print(alpha, beta)"
      ],
      "execution_count": 2,
      "outputs": [
        {
          "output_type": "stream",
          "name": "stdout",
          "text": [
            "185.41249999999994 18.33749999999997\n"
          ]
        }
      ]
    },
    {
      "cell_type": "code",
      "metadata": {
        "colab": {
          "base_uri": "https://localhost:8080/"
        },
        "id": "JwN773oqKbuw",
        "outputId": "df9146fe-03ad-44d5-9aed-3c70f450a2a2"
      },
      "source": [
        "# b)\n",
        "theta1 = (19/20 + alpha - 1) / (1+alpha + beta - 2)\n",
        "theta2 = (830/890 + alpha - 1) / (1+alpha + beta - 2)\n",
        "print(\"first one\") if theta1 > theta2 else print(\"second one\") "
      ],
      "execution_count": 5,
      "outputs": [
        {
          "output_type": "stream",
          "name": "stdout",
          "text": [
            "first one\n"
          ]
        }
      ]
    },
    {
      "cell_type": "code",
      "metadata": {
        "colab": {
          "base_uri": "https://localhost:8080/"
        },
        "id": "JWqa0Z_iK6vM",
        "outputId": "4d2cc5f4-032f-4058-eb95-09a94ae534ff"
      },
      "source": [
        "# c)\n",
        "theta1 = 19/20\n",
        "theta2 = 83/89\n",
        "print(\"first one\") if theta1 > theta2 else print(\"second one\") "
      ],
      "execution_count": 6,
      "outputs": [
        {
          "output_type": "stream",
          "name": "stdout",
          "text": [
            "first one\n"
          ]
        }
      ]
    },
    {
      "cell_type": "code",
      "metadata": {
        "id": "htrsx41SLHCr"
      },
      "source": [
        "# d) \n"
      ],
      "execution_count": null,
      "outputs": []
    },
    {
      "cell_type": "markdown",
      "metadata": {
        "id": "Drw3YjQnLKtf"
      },
      "source": [
        "**1.4**)\n",
        " I would chose 10 Principal Components, as it explains the maximum amount of variance."
      ]
    },
    {
      "cell_type": "markdown",
      "metadata": {
        "id": "qtl343lXLdP1"
      },
      "source": [
        "**1.5**) We need to decrease the average within cluster distance. So, I would select 4 clusters, because more than that does not decrase the average-within cluster distance."
      ]
    },
    {
      "cell_type": "markdown",
      "metadata": {
        "id": "cE4ghuh8Lz1Y"
      },
      "source": [
        "**1.6**) D is the correct answer a,b and c are incorrect. D is correct, because if we increase depth by one stock value will decrease by 5."
      ]
    },
    {
      "cell_type": "markdown",
      "metadata": {
        "id": "ShUK0bj-MMnW"
      },
      "source": [
        "1.6) e-> It implies that, up to 2 million depth, stock value will be above 0."
      ]
    },
    {
      "cell_type": "markdown",
      "metadata": {
        "id": "jp9dkJ3IMWjv"
      },
      "source": [
        "**1.7)**"
      ]
    },
    {
      "cell_type": "code",
      "metadata": {
        "colab": {
          "base_uri": "https://localhost:8080/"
        },
        "id": "l4gRtYSGLciK",
        "outputId": "47fe28bf-ac0b-4295-af2d-3977e7ddca1c"
      },
      "source": [
        "import numpy as np\n",
        "def func(xt_1, xt_2, xt_3, a, b, c, d):\n",
        "    return a*xt_1 + b*np.sqrt(xt_2) + c*xt_3 + d\n",
        "\n",
        "X = [1, 2]\n",
        "for t in range(2,60):\n",
        "    X.append(0.9*X[t-1] - 0.6*np.sqrt(X[t-2]) + 2)\n",
        "X = np.array(X)\n",
        "a,b,c,d = 1,1,1,1\n",
        "l_rate = 0.1\n",
        "predictions = []\n",
        "\n",
        "for epoch in range(200):\n",
        "    loss = 0\n",
        "    predictions = []\n",
        "    for t in range(3, 60):\n",
        "        y_hat = func(X[t-1], X[t-2], X[t-3], a, b, c, d)\n",
        "        predictions.append(y_hat)\n",
        "        y = X[t]\n",
        "        error = y_hat - y\n",
        "        loss += (y_hat - y)**2\n",
        "        a = a - l_rate*2*error*X[t-1]/60\n",
        "        b = b - l_rate*2*error*np.sqrt(X[t-2])/60\n",
        "        c = c - l_rate*2*error*X[t-2]/60\n",
        "        d = d - l_rate*2*error/60\n",
        "    #print(f\"Epoch: {epoch}, loss: {loss}\")\n",
        "\n",
        "print(f\"a:{a}, b: {b}, c: {c}, d: {d}\")\n",
        "print(f\"The error is: {sum([(y_hat - y)**2 for y_hat, y in zip(X[3:], predictions)])}\")"
      ],
      "execution_count": 12,
      "outputs": [
        {
          "output_type": "stream",
          "name": "stdout",
          "text": [
            "a:0.494540429652801, b: 0.8214561284908943, c: -0.031974178329960225, d: 1.0981582584536325\n",
            "The error is: 0.05619268806986162\n"
          ]
        }
      ]
    },
    {
      "cell_type": "code",
      "metadata": {
        "id": "y1rdlPbvLZFq"
      },
      "source": [
        ""
      ],
      "execution_count": null,
      "outputs": []
    },
    {
      "cell_type": "markdown",
      "metadata": {
        "id": "EydRbCNIPQUM"
      },
      "source": [
        "**2. Neural Network Architectures**"
      ]
    },
    {
      "cell_type": "markdown",
      "metadata": {
        "id": "LHmuryZqPiaC"
      },
      "source": [
        "2.1) \n",
        "y = -2.5*f(x-0.01) - 1"
      ]
    },
    {
      "cell_type": "code",
      "metadata": {
        "id": "yA99phytPOz5"
      },
      "source": [
        "# 2.2) \n",
        "dimension = 1+(227+4-11)/4\n",
        "# volume size is: 56x56X96\n",
        "parameters = 11*11*96\n",
        "# number of parameters: 11616"
      ],
      "execution_count": 16,
      "outputs": []
    },
    {
      "cell_type": "code",
      "metadata": {
        "colab": {
          "base_uri": "https://localhost:8080/"
        },
        "id": "wRLuwqfvPO3R",
        "outputId": "c5e5f450-cce1-4838-d466-702f75b6ba61"
      },
      "source": [
        "# 2.3)\n",
        "print(f\"Volume size is {1+(227-3)/2}\")"
      ],
      "execution_count": 17,
      "outputs": [
        {
          "output_type": "stream",
          "name": "stdout",
          "text": [
            "Volume size is 113.0\n"
          ]
        }
      ]
    },
    {
      "cell_type": "markdown",
      "metadata": {
        "id": "ieCcqpksQdhh"
      },
      "source": [
        "**2.4** It is the backpropagation applied to time series data."
      ]
    },
    {
      "cell_type": "markdown",
      "metadata": {
        "id": "l45xb5RmQm8S"
      },
      "source": [
        "**2.5)** <br>\n",
        "1-Image is present, find the caption <br>\n",
        "2-Text is given, find its sentiment <br>\n",
        "3-Machine translation <br>\n",
        "4-Classifying each frame in a video\n"
      ]
    },
    {
      "cell_type": "markdown",
      "metadata": {
        "id": "ws5se9A8Q6Ji"
      },
      "source": [
        "2.6) Euclidean distance can be used. Also 1-cosine similarity will give a clue how dissimilar are the two vectors."
      ]
    },
    {
      "cell_type": "code",
      "metadata": {
        "id": "u0idbQIWQa0G"
      },
      "source": [
        ""
      ],
      "execution_count": null,
      "outputs": []
    },
    {
      "cell_type": "markdown",
      "metadata": {
        "id": "N4bMuZngRHHC"
      },
      "source": [
        "**3. Reinforcement Learning**\n",
        "\n",
        "3.1 Trying to maximize the reward by taking the best action for each state. Q-table is usedi where rows are the states and columns are the actions. It is a value based function, where we calculate the maximum expected future rewards for action at each state."
      ]
    },
    {
      "cell_type": "markdown",
      "metadata": {
        "id": "WxzeL3tORj2a"
      },
      "source": [
        "3.2 Exploration is finding more information about an environment. Like in a multi armed bandit problem, trying to find the best option.\n",
        "Exploitation is exploiting the found option to maximize the rewards."
      ]
    },
    {
      "cell_type": "code",
      "metadata": {
        "id": "ebOvZfJ6SHWM"
      },
      "source": [
        "# 3.3"
      ],
      "execution_count": 18,
      "outputs": []
    },
    {
      "cell_type": "markdown",
      "metadata": {
        "id": "DfGJOxAvSyWJ"
      },
      "source": [
        "Multi armed bandit problem is the most naive reinforcement learning problem, where you try to find the best option from given n options and maximize the reward.\n",
        "\n",
        "In epsilon greedy algorithm, you give a rate to how much explore and how much to exploit the information."
      ]
    },
    {
      "cell_type": "code",
      "metadata": {
        "colab": {
          "base_uri": "https://localhost:8080/",
          "height": 283
        },
        "id": "Ef1LZ17vSImK",
        "outputId": "5cdc460d-9830-4002-9327-86c40c7c4e68"
      },
      "source": [
        "from uuid import uuid4\n",
        "import numpy as np\n",
        "import matplotlib\n",
        "import matplotlib.pyplot as plt\n",
        "import logging\n",
        "from collections import defaultdict\n",
        "\n",
        "\n",
        "class Bandit:\n",
        "    def __init__(self, m):\n",
        "        \"\"\"\n",
        "        Simulates bandit.\n",
        "        Args:\n",
        "            m (float): True mean.\n",
        "        \"\"\"\n",
        "\n",
        "        self.m = m\n",
        "        self.id = uuid4()\n",
        "\n",
        "    def pull(self):\n",
        "        \"\"\"\n",
        "        Simulate pulling the arm of the bandit.\n",
        "        Normal distribution with mu = self.m and sigma = 1.\n",
        "        \"\"\"\n",
        "        reward = np.random.normal(self.m, 0.1, 1)[0] + self.m\n",
        "\n",
        "        return reward\n",
        "\n",
        "class EpsilonGreedyAgent:\n",
        "    def __init__(self, bandits, epsilon):\n",
        "        self.bandits = bandits\n",
        "        self.epsilon = epsilon\n",
        "        self.record = defaultdict(lambda: dict(actions=0, reward=0))\n",
        "        self.all_rewards = []\n",
        "        self.total_actions = 0\n",
        "        \n",
        "    def _get_random_bandit(self):\n",
        "        return np.random.choice(self.bandits)\n",
        "\n",
        "    def _get_current_best_bandit(self):\n",
        "        estimates = []\n",
        "        for bandit in self.bandits:\n",
        "            bandit_record = self.record[bandit]\n",
        "            if not bandit_record['actions']:\n",
        "                estimates.append(0)\n",
        "            else:\n",
        "                estimates.append(bandit_record['reward'] / bandit_record['actions'])\n",
        "\n",
        "        return self.bandits[np.argmax(estimates)]\n",
        "\n",
        "    def _choose_bandit(self):\n",
        "        p = np.random.uniform(0, 1, 1)\n",
        "        if p < self.epsilon:\n",
        "            bandit = self._get_random_bandit()\n",
        "        else:\n",
        "            bandit = self._get_current_best_bandit()\n",
        "\n",
        "        return bandit\n",
        "\n",
        "    def take_action(self):\n",
        "        current_bandit = self._choose_bandit()\n",
        "        reward = current_bandit.pull()\n",
        "        self.record[current_bandit][\"actions\"] += 1\n",
        "        self.record[current_bandit][\"reward\"] += reward\n",
        "        self.all_rewards.append(reward)\n",
        "        self.total_actions += 1\n",
        "        return reward\n",
        "\n",
        "    def take_actions(self, iter):\n",
        "        for _ in range(iter):\n",
        "            self.take_action()\n",
        "\n",
        "def compare_epsilons(epsilons, bandits_true_means, iterations):\n",
        "    \"\"\"\n",
        "    Compare different epsilons for epsilon-greedy algorithm.\n",
        "    \"\"\"\n",
        "    agents = []\n",
        "    bandits = [Bandit(m) for m in bandits_true_means]\n",
        "\n",
        "    for epsilon in epsilons:\n",
        "        agent = EpsilonGreedyAgent(bandits=bandits, epsilon=epsilon)\n",
        "        agent.take_actions(iterations)\n",
        "        agents.append(agent)\n",
        "\n",
        "    return agents, epsilons\n",
        "\n",
        "epsilons = [0.01, 0.05, 0.1, 0.2]\n",
        "bandits_means = [3, 5, 10]\n",
        "\n",
        "iterations = 300\n",
        "agents, _ =  compare_epsilons(epsilons, bandits_means, iterations)\n",
        "\n",
        "all_rewards = [agent.all_rewards for agent in agents]\n",
        "\n",
        "\n",
        "for i in range(len(agents)):\n",
        "    plt.plot(\n",
        "        np.cumsum(all_rewards[i]), \n",
        "        label=\"epsilon = {}\".format(epsilons[i] or '1 / iter'),\n",
        "    )\n",
        "\n",
        "plt.xlabel(\"iteration\")\n",
        "plt.ylabel(\"total rewards\")\n",
        "plt.legend()"
      ],
      "execution_count": 19,
      "outputs": [
        {
          "output_type": "display_data",
          "data": {
            "image/png": "[encoded data removed]",
            "text/plain": [
              "<Figure size 432x288 with 1 Axes>"
            ]
          },
          "metadata": {
            "needs_background": "light"
          }
        }
      ]
    },
    {
      "cell_type": "code",
      "metadata": {
        "id": "Z4kMcP67SVvv"
      },
      "source": [
        ""
      ],
      "execution_count": null,
      "outputs": []
    }
  ]
}